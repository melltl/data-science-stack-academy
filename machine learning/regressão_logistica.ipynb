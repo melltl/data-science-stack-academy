{
  "nbformat": 4,
  "nbformat_minor": 0,
  "metadata": {
    "colab": {
      "provenance": [],
      "authorship_tag": "ABX9TyO34yFAA9rQ5sdMFLeJ03pU",
      "include_colab_link": true
    },
    "kernelspec": {
      "name": "python3",
      "display_name": "Python 3"
    },
    "language_info": {
      "name": "python"
    }
  },
  "cells": [
    {
      "cell_type": "markdown",
      "metadata": {
        "id": "view-in-github",
        "colab_type": "text"
      },
      "source": [
        "<a href=\"https://colab.research.google.com/github/melltl/data_science_courses/blob/main/machine%20learning/regress%C3%A3o_logistica.ipynb\" target=\"_parent\"><img src=\"https://colab.research.google.com/assets/colab-badge.svg\" alt=\"Open In Colab\"/></a>"
      ]
    },
    {
      "cell_type": "markdown",
      "source": [
        "a probabilidade de sucesso dividida pela probabilidade de falha\n",
        "classifica em 1 ou 0\n",
        "usada para estimar o relacionamento entre uma varivael dependente e uma ou mais variaveis independentes"
      ],
      "metadata": {
        "id": "_z5ifTnkbrlk"
      }
    },
    {
      "cell_type": "markdown",
      "source": [
        "Em uma regressão logística, a variável dependente é categórica. Isso significa que ela pode assumir um número limitado de valores discretos. Por exemplo, se você estiver tentando prever se um e-mail é spam ou não, a variável dependente é binária (sim ou não).\n",
        "\n",
        "As variáveis independentes, por outro lado, são as características ou atributos que você usa para fazer essa previsão. No exemplo do e-mail, as variáveis independentes podem incluir coisas como o número de palavras no e-mail, a presença de certas palavras-chave, o domínio do remetente, etc."
      ],
      "metadata": {
        "id": "7bPnOr98dxAw"
      }
    },
    {
      "cell_type": "code",
      "execution_count": 1,
      "metadata": {
        "id": "C0RZW_H0rVlo"
      },
      "outputs": [],
      "source": [
        "from sklearn import metrics\n",
        "import numpy as np\n",
        "import random"
      ]
    },
    {
      "cell_type": "code",
      "source": [
        "y_test=random.choices([0,1],k=50)\n",
        "ý_test=random.choices([0,1],k=50)"
      ],
      "metadata": {
        "id": "IIOhC78Hi-r5"
      },
      "execution_count": 4,
      "outputs": []
    },
    {
      "cell_type": "markdown",
      "source": [
        "- Acurácia\n",
        " - média do numero de acertos em relação ao número de entradas"
      ],
      "metadata": {
        "id": "hcgvqRWQkGCt"
      }
    },
    {
      "cell_type": "code",
      "source": [
        "metrics.accuracy_score(y_test,ý_test)\n"
      ],
      "metadata": {
        "colab": {
          "base_uri": "https://localhost:8080/"
        },
        "id": "PUF5dc1ejfTV",
        "outputId": "53ff6686-fe8b-447d-a63b-c7e5136306d5"
      },
      "execution_count": 5,
      "outputs": [
        {
          "output_type": "execute_result",
          "data": {
            "text/plain": [
              "0.56"
            ]
          },
          "metadata": {},
          "execution_count": 5
        }
      ]
    },
    {
      "cell_type": "markdown",
      "source": [
        "Metricas:\n",
        "\n",
        "\n",
        "\n",
        "- Matriz de confusao\n",
        " -"
      ],
      "metadata": {
        "id": "pKiGbqOAekjb"
      }
    },
    {
      "cell_type": "markdown",
      "source": [
        "![image](https://learn.microsoft.com/en-us/training/wwl-data-ai/fundamentals-machine-learning/media/binary-confusion-matrix.png)\n",
        "- ŷ=0 e y=0: Verdadeiros negativos (TN)\n",
        "- ŷ=1 e y=0: Falsos positivos (FP)\n",
        "- ŷ=0 e y=1: Falsos negativos (FN)\n",
        "- ŷ=1 e y=1: Verdadeiros positivos (TP)"
      ],
      "metadata": {
        "id": "6DYH9Q_QJ7tz"
      }
    },
    {
      "cell_type": "code",
      "source": [
        "metrics.confusion_matrix(y_test,ý_test)"
      ],
      "metadata": {
        "colab": {
          "base_uri": "https://localhost:8080/"
        },
        "id": "u-0Svic7jz_v",
        "outputId": "4e13d723-c21d-48f9-f09b-2ee9b9eda5e4"
      },
      "execution_count": 7,
      "outputs": [
        {
          "output_type": "execute_result",
          "data": {
            "text/plain": [
              "array([[11, 16],\n",
              "       [ 6, 17]])"
            ]
          },
          "metadata": {},
          "execution_count": 7
        }
      ]
    },
    {
      "cell_type": "markdown",
      "source": [
        "- Precisão\n",
        " mede o número de acertos positivos em relação á soma dos acertos mais o total de amostras positivas\n",
        "\n",
        " TP/TP+FP\n"
      ],
      "metadata": {
        "id": "vhvYERRTkY35"
      }
    },
    {
      "cell_type": "code",
      "source": [
        "metrics.precision_score(y_test,ý_test)"
      ],
      "metadata": {
        "colab": {
          "base_uri": "https://localhost:8080/"
        },
        "id": "sS5mDdnakB-R",
        "outputId": "035bfe6d-5e52-4597-ef60-3bcd3bd513a2"
      },
      "execution_count": 8,
      "outputs": [
        {
          "output_type": "execute_result",
          "data": {
            "text/plain": [
              "0.5151515151515151"
            ]
          },
          "metadata": {},
          "execution_count": 8
        }
      ]
    },
    {
      "cell_type": "markdown",
      "source": [
        "- Recall\n",
        " Numero de acertos positivos em relacao a soma dos acertos mais o total de amostras negativas\n",
        "\n",
        " TP/TP+FN\n"
      ],
      "metadata": {
        "id": "9a1UaLE7knES"
      }
    },
    {
      "cell_type": "code",
      "source": [
        "metrics.recall_score(y_test,ý_test)"
      ],
      "metadata": {
        "colab": {
          "base_uri": "https://localhost:8080/"
        },
        "id": "b1Q6rnhMkVep",
        "outputId": "4d62b8a7-b841-463f-dc46-0e3d79b066c7"
      },
      "execution_count": 9,
      "outputs": [
        {
          "output_type": "execute_result",
          "data": {
            "text/plain": [
              "0.7391304347826086"
            ]
          },
          "metadata": {},
          "execution_count": 9
        }
      ]
    },
    {
      "cell_type": "markdown",
      "source": [
        "- F1 score\n",
        "\n",
        "faz uma media harmonica entre o precision e o recall\n",
        "\n",
        "\n",
        "2*(1/(1/precision)+(1/recall))"
      ],
      "metadata": {
        "id": "nF-O1aRhkpMB"
      }
    },
    {
      "cell_type": "code",
      "source": [
        "metrics.f1_score(y_test,ý_test)"
      ],
      "metadata": {
        "colab": {
          "base_uri": "https://localhost:8080/"
        },
        "id": "03EdsTSik3NR",
        "outputId": "1e825dbb-c0fb-47f2-c740-f465a9d89d54"
      },
      "execution_count": 10,
      "outputs": [
        {
          "output_type": "execute_result",
          "data": {
            "text/plain": [
              "0.6071428571428571"
            ]
          },
          "metadata": {},
          "execution_count": 10
        }
      ]
    },
    {
      "cell_type": "code",
      "source": [
        "#todos juntos\n",
        "\n",
        "print(metrics.classification_report(y_test,ý_test))"
      ],
      "metadata": {
        "colab": {
          "base_uri": "https://localhost:8080/"
        },
        "id": "vpeJWDOAk6Xp",
        "outputId": "87de5432-54b3-4492-d270-f10278961e8b"
      },
      "execution_count": 12,
      "outputs": [
        {
          "output_type": "stream",
          "name": "stdout",
          "text": [
            "              precision    recall  f1-score   support\n",
            "\n",
            "           0       0.65      0.41      0.50        27\n",
            "           1       0.52      0.74      0.61        23\n",
            "\n",
            "    accuracy                           0.56        50\n",
            "   macro avg       0.58      0.57      0.55        50\n",
            "weighted avg       0.59      0.56      0.55        50\n",
            "\n"
          ]
        }
      ]
    },
    {
      "cell_type": "code",
      "source": [],
      "metadata": {
        "id": "oBjSp6RolEMQ"
      },
      "execution_count": null,
      "outputs": []
    }
  ]
}