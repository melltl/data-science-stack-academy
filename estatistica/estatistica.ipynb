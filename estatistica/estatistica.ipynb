{
  "nbformat": 4,
  "nbformat_minor": 0,
  "metadata": {
    "colab": {
      "provenance": [],
      "toc_visible": true,
      "authorship_tag": "ABX9TyO6dmFdDYsRDT3r0DwBcmGN",
      "include_colab_link": true
    },
    "kernelspec": {
      "name": "python3",
      "display_name": "Python 3"
    },
    "language_info": {
      "name": "python"
    }
  },
  "cells": [
    {
      "cell_type": "markdown",
      "metadata": {
        "id": "view-in-github",
        "colab_type": "text"
      },
      "source": [
        "<a href=\"https://colab.research.google.com/github/melltl/data_science_courses/blob/main/estatistica/estatistica.ipynb\" target=\"_parent\"><img src=\"https://colab.research.google.com/assets/colab-badge.svg\" alt=\"Open In Colab\"/></a>"
      ]
    },
    {
      "cell_type": "markdown",
      "source": [
        "#Estatistica descritiva\n",
        "\n",
        "---\n",
        "\n"
      ],
      "metadata": {
        "id": "J7rIwZWLAyA0"
      }
    },
    {
      "cell_type": "markdown",
      "source": [
        "Ramo da estatistica que se ocupa em organizar e descrever os dados, que podem ser expressados em tabelas e garficos\n"
      ],
      "metadata": {
        "id": "9UVx2KunA2Wo"
      }
    },
    {
      "cell_type": "markdown",
      "source": [
        "##Posição"
      ],
      "metadata": {
        "id": "mtvIywhGBpq9"
      }
    },
    {
      "cell_type": "markdown",
      "source": [
        "grau de concentração dos dados(media,mediana)"
      ],
      "metadata": {
        "id": "W0wDpPd4Cz4Q"
      }
    },
    {
      "cell_type": "markdown",
      "source": [
        "##Disperção"
      ],
      "metadata": {
        "id": "9f8D7ND5BsVA"
      }
    },
    {
      "cell_type": "markdown",
      "source": [
        "Quão disperso sao os vaslores dos dados"
      ],
      "metadata": {
        "id": "RUyIaORNDJFA"
      }
    },
    {
      "cell_type": "markdown",
      "source": [
        "##Probabilidade"
      ],
      "metadata": {
        "id": "vjzf0IuLDZpP"
      }
    },
    {
      "cell_type": "markdown",
      "source": [
        "Permite descrever fenomenos de forma aleatoria ou seja aqueles em que estao presentes a incerteza"
      ],
      "metadata": {
        "id": "6Vlegiy-DcGh"
      }
    },
    {
      "cell_type": "markdown",
      "source": [
        "##Amostragem"
      ],
      "metadata": {
        "id": "b8nGLyWiEUgb"
      }
    },
    {
      "cell_type": "markdown",
      "source": [
        "Conjunto de tecnicas que permite selecionar uma amorstra da população, com o objetivo de obter informações de uma ou mais caracteristicas de interesse"
      ],
      "metadata": {
        "id": "uGM3xIOsSGTQ"
      }
    },
    {
      "cell_type": "markdown",
      "source": [
        "##amostragem aleatoria simples"
      ],
      "metadata": {
        "id": "o4C2GhDQP-_E"
      }
    },
    {
      "cell_type": "code",
      "source": [
        "#amostragem aleatoria simples\n",
        "import pandas as pd\n",
        "\n"
      ],
      "metadata": {
        "id": "dsS82AECcxcw"
      },
      "execution_count": null,
      "outputs": []
    },
    {
      "cell_type": "code",
      "source": [
        "df= pd.read_csv(\"covid19.csv\")"
      ],
      "metadata": {
        "id": "dN7-08KlKO0z"
      },
      "execution_count": null,
      "outputs": []
    },
    {
      "cell_type": "code",
      "source": [
        "df.info()"
      ],
      "metadata": {
        "id": "rNvjik0ILPia"
      },
      "execution_count": null,
      "outputs": []
    },
    {
      "cell_type": "code",
      "source": [
        "df.head()"
      ],
      "metadata": {
        "id": "ISYcGxcaLQix"
      },
      "execution_count": null,
      "outputs": []
    },
    {
      "cell_type": "code",
      "source": [
        "df_sample= df.sample(n=1000)"
      ],
      "metadata": {
        "id": "dNFD-ruwLUxX"
      },
      "execution_count": null,
      "outputs": []
    },
    {
      "cell_type": "code",
      "source": [
        "df_sample.info()"
      ],
      "metadata": {
        "id": "_pW3jYjCQE8b"
      },
      "execution_count": null,
      "outputs": []
    },
    {
      "cell_type": "code",
      "source": [
        "#especificando o tamanho da amostra\n",
        "df_sample= df.sample(frac=0.10)"
      ],
      "metadata": {
        "id": "oHC_BY2AQI1O"
      },
      "execution_count": null,
      "outputs": []
    },
    {
      "cell_type": "code",
      "source": [
        "df_sample.info()"
      ],
      "metadata": {
        "id": "mbreTS6dUMpy"
      },
      "execution_count": null,
      "outputs": []
    },
    {
      "cell_type": "code",
      "source": [
        "df_sample"
      ],
      "metadata": {
        "id": "enzwJGM7UPkO"
      },
      "execution_count": null,
      "outputs": []
    },
    {
      "cell_type": "markdown",
      "source": [
        "## amostragem aleatoria estratificada\n",
        ", na qual uma população é dividida em diferentes subgrupos, ou estratos, com base em características partilhadas."
      ],
      "metadata": {
        "id": "G7TR1o7LX_w2"
      }
    },
    {
      "cell_type": "code",
      "source": [
        "# amostragem aleatoria estratificada"
      ],
      "metadata": {
        "id": "yayiS93UUdhq"
      },
      "execution_count": null,
      "outputs": []
    },
    {
      "cell_type": "code",
      "source": [
        "from sklearn.model_selection import train_test_split"
      ],
      "metadata": {
        "id": "FpDyv0FvUkTG"
      },
      "execution_count": null,
      "outputs": []
    },
    {
      "cell_type": "code",
      "source": [
        "df['province'].value_counts()"
      ],
      "metadata": {
        "id": "kOksvjrjUyc4"
      },
      "execution_count": null,
      "outputs": []
    },
    {
      "cell_type": "code",
      "source": [
        "x_train,x_test,y_train,y_test=train_test_split (df.drop('province',axis=1), df['province'],stratify=df['province'],test_size=0.20)\n"
      ],
      "metadata": {
        "id": "RtmimbvlU4UL"
      },
      "execution_count": null,
      "outputs": []
    },
    {
      "cell_type": "code",
      "source": [
        "y_test.shape"
      ],
      "metadata": {
        "id": "McEUMO1tWuSk"
      },
      "execution_count": null,
      "outputs": []
    },
    {
      "cell_type": "code",
      "source": [
        "y_test.value_counts()\n",
        "#20% de cada observacao"
      ],
      "metadata": {
        "id": "OYi07ZVJWxko"
      },
      "execution_count": null,
      "outputs": []
    },
    {
      "cell_type": "markdown",
      "source": [
        "##amostragem sistematica\n",
        "Quando os elementos da população se apresentam ordenados e a retirada dos elementos da amostra é feita periodicamente, temos uma amostragem sistemática. Assim, por exemplo, em uma linha de produção, podemos, a cada dez itens produzidos, retirar um para pertencer a uma amostra da produção diária."
      ],
      "metadata": {
        "id": "Nlleh8CvYC77"
      }
    },
    {
      "cell_type": "code",
      "source": [
        "import numpy as np"
      ],
      "metadata": {
        "id": "fQcXIrviW2ci"
      },
      "execution_count": null,
      "outputs": []
    },
    {
      "cell_type": "code",
      "source": [
        "semente =np.random.choice(10,1)"
      ],
      "metadata": {
        "id": "yOMfLD0_YIEM"
      },
      "execution_count": null,
      "outputs": []
    },
    {
      "cell_type": "code",
      "source": [
        "semente\n"
      ],
      "metadata": {
        "id": "Nhe410BaYNoo"
      },
      "execution_count": null,
      "outputs": []
    },
    {
      "cell_type": "code",
      "source": [
        "#gerando indices a partir da semente"
      ],
      "metadata": {
        "id": "V4MrdxkyYOYZ"
      },
      "execution_count": null,
      "outputs": []
    },
    {
      "cell_type": "code",
      "source": [
        "indices = np.arange(0,100,semente)"
      ],
      "metadata": {
        "id": "KA4at189YX4M"
      },
      "execution_count": null,
      "outputs": []
    },
    {
      "cell_type": "code",
      "source": [
        "indices"
      ],
      "metadata": {
        "id": "rdGDYN9nbQll"
      },
      "execution_count": null,
      "outputs": []
    },
    {
      "cell_type": "code",
      "source": [
        "#gerando a amostra a partir dos indices\n",
        "amostra= df.loc[indices,:]"
      ],
      "metadata": {
        "id": "C8Ip4RB_bdVc"
      },
      "execution_count": null,
      "outputs": []
    },
    {
      "cell_type": "code",
      "source": [
        "amostra"
      ],
      "metadata": {
        "id": "aWZUvwKkbwhF"
      },
      "execution_count": null,
      "outputs": []
    },
    {
      "cell_type": "markdown",
      "source": [
        "#pre processamento de dados"
      ],
      "metadata": {
        "id": "ROYDR3bXynvg"
      }
    },
    {
      "cell_type": "markdown",
      "source": [
        "##discretização\n",
        "é tranformar valores que possam reprentar melhor os dados"
      ],
      "metadata": {
        "id": "yaTEzbEC3I4m"
      }
    },
    {
      "cell_type": "code",
      "source": [
        "import pandas as pd"
      ],
      "metadata": {
        "id": "pcAAaxkqCMdC"
      },
      "execution_count": null,
      "outputs": []
    },
    {
      "cell_type": "code",
      "source": [
        "altura=[1.50,1.57,1.62,1.70,1.85,1.90]\n",
        "altura=pd.qcut(altura,3,labels=['P','M','G'])\n",
        "print(altura)"
      ],
      "metadata": {
        "colab": {
          "base_uri": "https://localhost:8080/"
        },
        "id": "QVktInCQCUNH",
        "outputId": "6d9823ee-58f5-446b-8722-c338e97761da"
      },
      "execution_count": 63,
      "outputs": [
        {
          "output_type": "stream",
          "name": "stdout",
          "text": [
            "['P', 'P', 'M', 'M', 'G', 'G']\n",
            "Categories (3, object): ['P' < 'M' < 'G']\n"
          ]
        }
      ]
    },
    {
      "cell_type": "code",
      "source": [
        "df=pd.read_csv('kc_house_data.csv')"
      ],
      "metadata": {
        "id": "3Y64foAjCzop"
      },
      "execution_count": 58,
      "outputs": []
    },
    {
      "cell_type": "code",
      "source": [
        "df.floors.value_counts()"
      ],
      "metadata": {
        "colab": {
          "base_uri": "https://localhost:8080/"
        },
        "id": "SpSdWNfCDadY",
        "outputId": "1b93e2dc-9888-4c73-f1d0-4be39243b061"
      },
      "execution_count": 59,
      "outputs": [
        {
          "output_type": "execute_result",
          "data": {
            "text/plain": [
              "1.0    10679\n",
              "2.0     8241\n",
              "1.5     1910\n",
              "3.0      613\n",
              "2.5      161\n",
              "3.5        8\n",
              "Name: floors, dtype: int64"
            ]
          },
          "metadata": {},
          "execution_count": 59
        }
      ]
    },
    {
      "cell_type": "code",
      "source": [
        "df['floors_labels']=pd.cut(df['floors'],5,labels=['PP','P','M','G', 'GG'])\n",
        "df.head()"
      ],
      "metadata": {
        "colab": {
          "base_uri": "https://localhost:8080/",
          "height": 256
        },
        "id": "8gpG5gG8Djyp",
        "outputId": "1e9a03b5-ab13-4100-eba9-00bb73d68edf"
      },
      "execution_count": 60,
      "outputs": [
        {
          "output_type": "execute_result",
          "data": {
            "text/plain": [
              "           id             date     price  bedrooms  bathrooms  sqft_living  \\\n",
              "0  7129300520  20141013T000000  221900.0       3.0       1.00         1180   \n",
              "1  6414100192  20141209T000000  538000.0       3.0       2.25         2570   \n",
              "2  5631500400  20150225T000000  180000.0       2.0       1.00          770   \n",
              "3  2487200875  20141209T000000  604000.0       4.0       3.00         1960   \n",
              "4  1954400510  20150218T000000  510000.0       3.0       2.00         1680   \n",
              "\n",
              "   sqft_lot  floors  waterfront  view  ...  sqft_above  sqft_basement  \\\n",
              "0      5650     1.0           0     0  ...        1180              0   \n",
              "1      7242     2.0           0     0  ...        2170            400   \n",
              "2     10000     1.0           0     0  ...         770              0   \n",
              "3      5000     1.0           0     0  ...        1050            910   \n",
              "4      8080     1.0           0     0  ...        1680              0   \n",
              "\n",
              "   yr_built  yr_renovated  zipcode      lat     long  sqft_living15  \\\n",
              "0      1955             0    98178  47.5112 -122.257           1340   \n",
              "1      1951          1991    98125  47.7210 -122.319           1690   \n",
              "2      1933             0    98028  47.7379 -122.233           2720   \n",
              "3      1965             0    98136  47.5208 -122.393           1360   \n",
              "4      1987             0    98074  47.6168 -122.045           1800   \n",
              "\n",
              "   sqft_lot15  floors_labels  \n",
              "0        5650             PP  \n",
              "1        7639              P  \n",
              "2        8062             PP  \n",
              "3        5000             PP  \n",
              "4        7503             PP  \n",
              "\n",
              "[5 rows x 22 columns]"
            ],
            "text/html": [
              "\n",
              "  <div id=\"df-e0fa025e-de98-48bf-8bc8-4a428aa4b46f\" class=\"colab-df-container\">\n",
              "    <div>\n",
              "<style scoped>\n",
              "    .dataframe tbody tr th:only-of-type {\n",
              "        vertical-align: middle;\n",
              "    }\n",
              "\n",
              "    .dataframe tbody tr th {\n",
              "        vertical-align: top;\n",
              "    }\n",
              "\n",
              "    .dataframe thead th {\n",
              "        text-align: right;\n",
              "    }\n",
              "</style>\n",
              "<table border=\"1\" class=\"dataframe\">\n",
              "  <thead>\n",
              "    <tr style=\"text-align: right;\">\n",
              "      <th></th>\n",
              "      <th>id</th>\n",
              "      <th>date</th>\n",
              "      <th>price</th>\n",
              "      <th>bedrooms</th>\n",
              "      <th>bathrooms</th>\n",
              "      <th>sqft_living</th>\n",
              "      <th>sqft_lot</th>\n",
              "      <th>floors</th>\n",
              "      <th>waterfront</th>\n",
              "      <th>view</th>\n",
              "      <th>...</th>\n",
              "      <th>sqft_above</th>\n",
              "      <th>sqft_basement</th>\n",
              "      <th>yr_built</th>\n",
              "      <th>yr_renovated</th>\n",
              "      <th>zipcode</th>\n",
              "      <th>lat</th>\n",
              "      <th>long</th>\n",
              "      <th>sqft_living15</th>\n",
              "      <th>sqft_lot15</th>\n",
              "      <th>floors_labels</th>\n",
              "    </tr>\n",
              "  </thead>\n",
              "  <tbody>\n",
              "    <tr>\n",
              "      <th>0</th>\n",
              "      <td>7129300520</td>\n",
              "      <td>20141013T000000</td>\n",
              "      <td>221900.0</td>\n",
              "      <td>3.0</td>\n",
              "      <td>1.00</td>\n",
              "      <td>1180</td>\n",
              "      <td>5650</td>\n",
              "      <td>1.0</td>\n",
              "      <td>0</td>\n",
              "      <td>0</td>\n",
              "      <td>...</td>\n",
              "      <td>1180</td>\n",
              "      <td>0</td>\n",
              "      <td>1955</td>\n",
              "      <td>0</td>\n",
              "      <td>98178</td>\n",
              "      <td>47.5112</td>\n",
              "      <td>-122.257</td>\n",
              "      <td>1340</td>\n",
              "      <td>5650</td>\n",
              "      <td>PP</td>\n",
              "    </tr>\n",
              "    <tr>\n",
              "      <th>1</th>\n",
              "      <td>6414100192</td>\n",
              "      <td>20141209T000000</td>\n",
              "      <td>538000.0</td>\n",
              "      <td>3.0</td>\n",
              "      <td>2.25</td>\n",
              "      <td>2570</td>\n",
              "      <td>7242</td>\n",
              "      <td>2.0</td>\n",
              "      <td>0</td>\n",
              "      <td>0</td>\n",
              "      <td>...</td>\n",
              "      <td>2170</td>\n",
              "      <td>400</td>\n",
              "      <td>1951</td>\n",
              "      <td>1991</td>\n",
              "      <td>98125</td>\n",
              "      <td>47.7210</td>\n",
              "      <td>-122.319</td>\n",
              "      <td>1690</td>\n",
              "      <td>7639</td>\n",
              "      <td>P</td>\n",
              "    </tr>\n",
              "    <tr>\n",
              "      <th>2</th>\n",
              "      <td>5631500400</td>\n",
              "      <td>20150225T000000</td>\n",
              "      <td>180000.0</td>\n",
              "      <td>2.0</td>\n",
              "      <td>1.00</td>\n",
              "      <td>770</td>\n",
              "      <td>10000</td>\n",
              "      <td>1.0</td>\n",
              "      <td>0</td>\n",
              "      <td>0</td>\n",
              "      <td>...</td>\n",
              "      <td>770</td>\n",
              "      <td>0</td>\n",
              "      <td>1933</td>\n",
              "      <td>0</td>\n",
              "      <td>98028</td>\n",
              "      <td>47.7379</td>\n",
              "      <td>-122.233</td>\n",
              "      <td>2720</td>\n",
              "      <td>8062</td>\n",
              "      <td>PP</td>\n",
              "    </tr>\n",
              "    <tr>\n",
              "      <th>3</th>\n",
              "      <td>2487200875</td>\n",
              "      <td>20141209T000000</td>\n",
              "      <td>604000.0</td>\n",
              "      <td>4.0</td>\n",
              "      <td>3.00</td>\n",
              "      <td>1960</td>\n",
              "      <td>5000</td>\n",
              "      <td>1.0</td>\n",
              "      <td>0</td>\n",
              "      <td>0</td>\n",
              "      <td>...</td>\n",
              "      <td>1050</td>\n",
              "      <td>910</td>\n",
              "      <td>1965</td>\n",
              "      <td>0</td>\n",
              "      <td>98136</td>\n",
              "      <td>47.5208</td>\n",
              "      <td>-122.393</td>\n",
              "      <td>1360</td>\n",
              "      <td>5000</td>\n",
              "      <td>PP</td>\n",
              "    </tr>\n",
              "    <tr>\n",
              "      <th>4</th>\n",
              "      <td>1954400510</td>\n",
              "      <td>20150218T000000</td>\n",
              "      <td>510000.0</td>\n",
              "      <td>3.0</td>\n",
              "      <td>2.00</td>\n",
              "      <td>1680</td>\n",
              "      <td>8080</td>\n",
              "      <td>1.0</td>\n",
              "      <td>0</td>\n",
              "      <td>0</td>\n",
              "      <td>...</td>\n",
              "      <td>1680</td>\n",
              "      <td>0</td>\n",
              "      <td>1987</td>\n",
              "      <td>0</td>\n",
              "      <td>98074</td>\n",
              "      <td>47.6168</td>\n",
              "      <td>-122.045</td>\n",
              "      <td>1800</td>\n",
              "      <td>7503</td>\n",
              "      <td>PP</td>\n",
              "    </tr>\n",
              "  </tbody>\n",
              "</table>\n",
              "<p>5 rows × 22 columns</p>\n",
              "</div>\n",
              "    <div class=\"colab-df-buttons\">\n",
              "\n",
              "  <div class=\"colab-df-container\">\n",
              "    <button class=\"colab-df-convert\" onclick=\"convertToInteractive('df-e0fa025e-de98-48bf-8bc8-4a428aa4b46f')\"\n",
              "            title=\"Convert this dataframe to an interactive table.\"\n",
              "            style=\"display:none;\">\n",
              "\n",
              "  <svg xmlns=\"http://www.w3.org/2000/svg\" height=\"24px\" viewBox=\"0 -960 960 960\">\n",
              "    <path d=\"M120-120v-720h720v720H120Zm60-500h600v-160H180v160Zm220 220h160v-160H400v160Zm0 220h160v-160H400v160ZM180-400h160v-160H180v160Zm440 0h160v-160H620v160ZM180-180h160v-160H180v160Zm440 0h160v-160H620v160Z\"/>\n",
              "  </svg>\n",
              "    </button>\n",
              "\n",
              "  <style>\n",
              "    .colab-df-container {\n",
              "      display:flex;\n",
              "      gap: 12px;\n",
              "    }\n",
              "\n",
              "    .colab-df-convert {\n",
              "      background-color: #E8F0FE;\n",
              "      border: none;\n",
              "      border-radius: 50%;\n",
              "      cursor: pointer;\n",
              "      display: none;\n",
              "      fill: #1967D2;\n",
              "      height: 32px;\n",
              "      padding: 0 0 0 0;\n",
              "      width: 32px;\n",
              "    }\n",
              "\n",
              "    .colab-df-convert:hover {\n",
              "      background-color: #E2EBFA;\n",
              "      box-shadow: 0px 1px 2px rgba(60, 64, 67, 0.3), 0px 1px 3px 1px rgba(60, 64, 67, 0.15);\n",
              "      fill: #174EA6;\n",
              "    }\n",
              "\n",
              "    .colab-df-buttons div {\n",
              "      margin-bottom: 4px;\n",
              "    }\n",
              "\n",
              "    [theme=dark] .colab-df-convert {\n",
              "      background-color: #3B4455;\n",
              "      fill: #D2E3FC;\n",
              "    }\n",
              "\n",
              "    [theme=dark] .colab-df-convert:hover {\n",
              "      background-color: #434B5C;\n",
              "      box-shadow: 0px 1px 3px 1px rgba(0, 0, 0, 0.15);\n",
              "      filter: drop-shadow(0px 1px 2px rgba(0, 0, 0, 0.3));\n",
              "      fill: #FFFFFF;\n",
              "    }\n",
              "  </style>\n",
              "\n",
              "    <script>\n",
              "      const buttonEl =\n",
              "        document.querySelector('#df-e0fa025e-de98-48bf-8bc8-4a428aa4b46f button.colab-df-convert');\n",
              "      buttonEl.style.display =\n",
              "        google.colab.kernel.accessAllowed ? 'block' : 'none';\n",
              "\n",
              "      async function convertToInteractive(key) {\n",
              "        const element = document.querySelector('#df-e0fa025e-de98-48bf-8bc8-4a428aa4b46f');\n",
              "        const dataTable =\n",
              "          await google.colab.kernel.invokeFunction('convertToInteractive',\n",
              "                                                    [key], {});\n",
              "        if (!dataTable) return;\n",
              "\n",
              "        const docLinkHtml = 'Like what you see? Visit the ' +\n",
              "          '<a target=\"_blank\" href=https://colab.research.google.com/notebooks/data_table.ipynb>data table notebook</a>'\n",
              "          + ' to learn more about interactive tables.';\n",
              "        element.innerHTML = '';\n",
              "        dataTable['output_type'] = 'display_data';\n",
              "        await google.colab.output.renderOutput(dataTable, element);\n",
              "        const docLink = document.createElement('div');\n",
              "        docLink.innerHTML = docLinkHtml;\n",
              "        element.appendChild(docLink);\n",
              "      }\n",
              "    </script>\n",
              "  </div>\n",
              "\n",
              "\n",
              "<div id=\"df-6aff7d4f-42aa-483f-97b3-c8ee68558583\">\n",
              "  <button class=\"colab-df-quickchart\" onclick=\"quickchart('df-6aff7d4f-42aa-483f-97b3-c8ee68558583')\"\n",
              "            title=\"Suggest charts\"\n",
              "            style=\"display:none;\">\n",
              "\n",
              "<svg xmlns=\"http://www.w3.org/2000/svg\" height=\"24px\"viewBox=\"0 0 24 24\"\n",
              "     width=\"24px\">\n",
              "    <g>\n",
              "        <path d=\"M19 3H5c-1.1 0-2 .9-2 2v14c0 1.1.9 2 2 2h14c1.1 0 2-.9 2-2V5c0-1.1-.9-2-2-2zM9 17H7v-7h2v7zm4 0h-2V7h2v10zm4 0h-2v-4h2v4z\"/>\n",
              "    </g>\n",
              "</svg>\n",
              "  </button>\n",
              "\n",
              "<style>\n",
              "  .colab-df-quickchart {\n",
              "      --bg-color: #E8F0FE;\n",
              "      --fill-color: #1967D2;\n",
              "      --hover-bg-color: #E2EBFA;\n",
              "      --hover-fill-color: #174EA6;\n",
              "      --disabled-fill-color: #AAA;\n",
              "      --disabled-bg-color: #DDD;\n",
              "  }\n",
              "\n",
              "  [theme=dark] .colab-df-quickchart {\n",
              "      --bg-color: #3B4455;\n",
              "      --fill-color: #D2E3FC;\n",
              "      --hover-bg-color: #434B5C;\n",
              "      --hover-fill-color: #FFFFFF;\n",
              "      --disabled-bg-color: #3B4455;\n",
              "      --disabled-fill-color: #666;\n",
              "  }\n",
              "\n",
              "  .colab-df-quickchart {\n",
              "    background-color: var(--bg-color);\n",
              "    border: none;\n",
              "    border-radius: 50%;\n",
              "    cursor: pointer;\n",
              "    display: none;\n",
              "    fill: var(--fill-color);\n",
              "    height: 32px;\n",
              "    padding: 0;\n",
              "    width: 32px;\n",
              "  }\n",
              "\n",
              "  .colab-df-quickchart:hover {\n",
              "    background-color: var(--hover-bg-color);\n",
              "    box-shadow: 0 1px 2px rgba(60, 64, 67, 0.3), 0 1px 3px 1px rgba(60, 64, 67, 0.15);\n",
              "    fill: var(--button-hover-fill-color);\n",
              "  }\n",
              "\n",
              "  .colab-df-quickchart-complete:disabled,\n",
              "  .colab-df-quickchart-complete:disabled:hover {\n",
              "    background-color: var(--disabled-bg-color);\n",
              "    fill: var(--disabled-fill-color);\n",
              "    box-shadow: none;\n",
              "  }\n",
              "\n",
              "  .colab-df-spinner {\n",
              "    border: 2px solid var(--fill-color);\n",
              "    border-color: transparent;\n",
              "    border-bottom-color: var(--fill-color);\n",
              "    animation:\n",
              "      spin 1s steps(1) infinite;\n",
              "  }\n",
              "\n",
              "  @keyframes spin {\n",
              "    0% {\n",
              "      border-color: transparent;\n",
              "      border-bottom-color: var(--fill-color);\n",
              "      border-left-color: var(--fill-color);\n",
              "    }\n",
              "    20% {\n",
              "      border-color: transparent;\n",
              "      border-left-color: var(--fill-color);\n",
              "      border-top-color: var(--fill-color);\n",
              "    }\n",
              "    30% {\n",
              "      border-color: transparent;\n",
              "      border-left-color: var(--fill-color);\n",
              "      border-top-color: var(--fill-color);\n",
              "      border-right-color: var(--fill-color);\n",
              "    }\n",
              "    40% {\n",
              "      border-color: transparent;\n",
              "      border-right-color: var(--fill-color);\n",
              "      border-top-color: var(--fill-color);\n",
              "    }\n",
              "    60% {\n",
              "      border-color: transparent;\n",
              "      border-right-color: var(--fill-color);\n",
              "    }\n",
              "    80% {\n",
              "      border-color: transparent;\n",
              "      border-right-color: var(--fill-color);\n",
              "      border-bottom-color: var(--fill-color);\n",
              "    }\n",
              "    90% {\n",
              "      border-color: transparent;\n",
              "      border-bottom-color: var(--fill-color);\n",
              "    }\n",
              "  }\n",
              "</style>\n",
              "\n",
              "  <script>\n",
              "    async function quickchart(key) {\n",
              "      const quickchartButtonEl =\n",
              "        document.querySelector('#' + key + ' button');\n",
              "      quickchartButtonEl.disabled = true;  // To prevent multiple clicks.\n",
              "      quickchartButtonEl.classList.add('colab-df-spinner');\n",
              "      try {\n",
              "        const charts = await google.colab.kernel.invokeFunction(\n",
              "            'suggestCharts', [key], {});\n",
              "      } catch (error) {\n",
              "        console.error('Error during call to suggestCharts:', error);\n",
              "      }\n",
              "      quickchartButtonEl.classList.remove('colab-df-spinner');\n",
              "      quickchartButtonEl.classList.add('colab-df-quickchart-complete');\n",
              "    }\n",
              "    (() => {\n",
              "      let quickchartButtonEl =\n",
              "        document.querySelector('#df-6aff7d4f-42aa-483f-97b3-c8ee68558583 button');\n",
              "      quickchartButtonEl.style.display =\n",
              "        google.colab.kernel.accessAllowed ? 'block' : 'none';\n",
              "    })();\n",
              "  </script>\n",
              "</div>\n",
              "\n",
              "    </div>\n",
              "  </div>\n"
            ],
            "application/vnd.google.colaboratory.intrinsic+json": {
              "type": "dataframe",
              "variable_name": "df"
            }
          },
          "metadata": {},
          "execution_count": 60
        }
      ]
    },
    {
      "cell_type": "code",
      "source": [
        "df.floors_labels.value_counts()"
      ],
      "metadata": {
        "colab": {
          "base_uri": "https://localhost:8080/"
        },
        "id": "oYz3J8EhFEh-",
        "outputId": "b3afaefe-8ed6-4fa4-9660-7cbfdb114a7a"
      },
      "execution_count": 64,
      "outputs": [
        {
          "output_type": "execute_result",
          "data": {
            "text/plain": [
              "PP    12589\n",
              "P      8241\n",
              "G       613\n",
              "M       161\n",
              "GG        8\n",
              "Name: floors_labels, dtype: int64"
            ]
          },
          "metadata": {},
          "execution_count": 64
        }
      ]
    },
    {
      "cell_type": "markdown",
      "source": [
        "##deteccao de anomalias"
      ],
      "metadata": {
        "id": "zFdZs4k23VUJ"
      }
    },
    {
      "cell_type": "code",
      "source": [
        "import numpy\n",
        "import pandas as pd\n",
        "dados = [\n",
        "    10, 386, 479, 627, 20, 523, 482, 483, 542, 699, 535, 617, 577, 471, 615, 583, 441, 562, 563, 527, 453, 536, 433, 541,\n",
        "    585, 704, 443, 569, 430, 637, 331, 511, 552, 496, 484, 566, 554, 472, 335, 440, 573, 341, 545, 615, 548, 604, 439, 536,\n",
        "    442, 461, 624, 611, 444, 578, 485, 487, 490, 496, 398, 512, 422, 455, 449, 432, 607, 439, 597, 639, 529, 363, 711, 543,\n",
        "    369, 130, 613, 501, 400,1300,30,1350,1400\n",
        "]\n",
        "dados"
      ],
      "metadata": {
        "id": "a_IvrwntzYkO"
      },
      "execution_count": null,
      "outputs": []
    },
    {
      "cell_type": "code",
      "source": [
        "\n",
        "import seaborn as sns\n",
        "sns.set(style=\"whitegrid\",color_codes=True)\n",
        "sns.boxplot(data=dados)"
      ],
      "metadata": {
        "colab": {
          "base_uri": "https://localhost:8080/",
          "height": 451
        },
        "id": "VnwSY6ivBsax",
        "outputId": "3601f49c-fedf-4bcd-92fa-3caab2f8a20a"
      },
      "execution_count": 3,
      "outputs": [
        {
          "output_type": "execute_result",
          "data": {
            "text/plain": [
              "<Axes: >"
            ]
          },
          "metadata": {},
          "execution_count": 3
        },
        {
          "output_type": "display_data",
          "data": {
            "text/plain": [
              "<Figure size 640x480 with 1 Axes>"
            ],
            "image/png": "[encoded data removed]"
          },
          "metadata": {}
        }
      ]
    },
    {
      "cell_type": "code",
      "source": [
        "#fronteira de valor abaixo da media em duas vezs o desvio padrao\n",
        "mean=numpy.mean(dados)\n",
        "std=numpy.std(dados,axis=0)\n",
        "valor_abaixo=mean -2 *std\n",
        "\n",
        "valor_abaixo\n"
      ],
      "metadata": {
        "colab": {
          "base_uri": "https://localhost:8080/"
        },
        "id": "3Zq5zG7HFPeN",
        "outputId": "e1cb828b-4f25-49a3-c805-bbf13376e183"
      },
      "execution_count": 33,
      "outputs": [
        {
          "output_type": "execute_result",
          "data": {
            "text/plain": [
              "105.06807435307127"
            ]
          },
          "metadata": {},
          "execution_count": 33
        }
      ]
    },
    {
      "cell_type": "code",
      "source": [
        "#fronteira de valor acima da media em duas vezs o desvio padrao\n",
        "\n",
        "mean +2 *std"
      ],
      "metadata": {
        "id": "83jJUL65F5ht",
        "outputId": "99d2a410-e8d1-4435-d0ff-c80001b10e16",
        "colab": {
          "base_uri": "https://localhost:8080/"
        }
      },
      "execution_count": 12,
      "outputs": [
        {
          "output_type": "execute_result",
          "data": {
            "text/plain": [
              "0    942.520389\n",
              "dtype: float64"
            ]
          },
          "metadata": {},
          "execution_count": 12
        }
      ]
    },
    {
      "cell_type": "code",
      "source": [
        "#listando os valores abaixo da media\n",
        "for x1 in dados:\n",
        "    if x1 < valor_abaixo:\n",
        "       print(x1)"
      ],
      "metadata": {
        "colab": {
          "base_uri": "https://localhost:8080/"
        },
        "id": "FWb_72_4-vqs",
        "outputId": "abedba94-b823-4b8f-ba4a-25a845c4e6db"
      },
      "execution_count": 35,
      "outputs": [
        {
          "output_type": "stream",
          "name": "stdout",
          "text": [
            "10\n",
            "20\n",
            "30\n"
          ]
        }
      ]
    },
    {
      "cell_type": "code",
      "source": [
        "#listando os valores acima da media\n",
        "for x1 in dados:\n",
        "    if x1 > mean + 2 * std:\n",
        "       print(x1)"
      ],
      "metadata": {
        "colab": {
          "base_uri": "https://localhost:8080/"
        },
        "id": "BCEVoXD0-6wC",
        "outputId": "e816da8f-c937-4e5b-fadc-d2954cffe896"
      },
      "execution_count": 37,
      "outputs": [
        {
          "output_type": "stream",
          "name": "stdout",
          "text": [
            "1300\n",
            "1350\n",
            "1400\n"
          ]
        }
      ]
    },
    {
      "cell_type": "code",
      "source": [
        "#removendo os valores muito abaixo da media\n",
        "dados= [x for x in dados if(x>mean-2*std)]\n",
        "print(dados)"
      ],
      "metadata": {
        "colab": {
          "base_uri": "https://localhost:8080/"
        },
        "id": "cH6kL3cZBiT5",
        "outputId": "f2911dbc-0c27-4468-d993-60323bd87239"
      },
      "execution_count": 39,
      "outputs": [
        {
          "output_type": "stream",
          "name": "stdout",
          "text": [
            "[386, 479, 627, 523, 482, 483, 542, 699, 535, 617, 577, 471, 615, 583, 441, 562, 563, 527, 453, 536, 433, 541, 585, 704, 443, 569, 430, 637, 331, 511, 552, 496, 484, 566, 554, 472, 335, 440, 573, 341, 545, 615, 548, 604, 439, 536, 442, 461, 624, 611, 444, 578, 485, 487, 490, 496, 398, 512, 422, 455, 449, 432, 607, 439, 597, 639, 529, 363, 711, 543, 369, 130, 613, 501, 400, 1300, 1350, 1400]\n"
          ]
        }
      ]
    },
    {
      "cell_type": "code",
      "source": [
        "dados= [x for x in dados if(x<mean+2*std)]\n",
        "print(dados)"
      ],
      "metadata": {
        "colab": {
          "base_uri": "https://localhost:8080/"
        },
        "id": "cUqFGNETB2WZ",
        "outputId": "5a1f69a5-f298-4ed4-aedc-119e97b460cb"
      },
      "execution_count": 40,
      "outputs": [
        {
          "output_type": "stream",
          "name": "stdout",
          "text": [
            "[386, 479, 627, 523, 482, 483, 542, 699, 535, 617, 577, 471, 615, 583, 441, 562, 563, 527, 453, 536, 433, 541, 585, 704, 443, 569, 430, 637, 331, 511, 552, 496, 484, 566, 554, 472, 335, 440, 573, 341, 545, 615, 548, 604, 439, 536, 442, 461, 624, 611, 444, 578, 485, 487, 490, 496, 398, 512, 422, 455, 449, 432, 607, 439, 597, 639, 529, 363, 711, 543, 369, 130, 613, 501, 400]\n"
          ]
        }
      ]
    },
    {
      "cell_type": "code",
      "source": [
        "sns.boxplot(data=dados)"
      ],
      "metadata": {
        "colab": {
          "base_uri": "https://localhost:8080/",
          "height": 423
        },
        "id": "I15pssRsCBk5",
        "outputId": "22b6bc21-f964-4325-ca67-63a8fe87fdc2"
      },
      "execution_count": 41,
      "outputs": [
        {
          "output_type": "execute_result",
          "data": {
            "text/plain": [
              "<Axes: >"
            ]
          },
          "metadata": {},
          "execution_count": 41
        },
        {
          "output_type": "display_data",
          "data": {
            "text/plain": [
              "<Figure size 640x480 with 1 Axes>"
            ],
            "image/png": "[encoded data removed]"
          },
          "metadata": {}
        }
      ]
    },
    {
      "cell_type": "markdown",
      "source": [
        "##Normalização\n",
        "aplicar as mesmas normas aos dados"
      ],
      "metadata": {
        "id": "kCZotZts-KSs"
      }
    },
    {
      "cell_type": "code",
      "source": [],
      "metadata": {
        "id": "lpPHmYuv-Psr"
      },
      "execution_count": null,
      "outputs": []
    },
    {
      "cell_type": "markdown",
      "source": [
        "#Standartization\n",
        "essat tecnica ignora a forma de distribuicao e transforma o dado de media para proximo de 0 e desvio padrao proximo de 1 assumindo que nao temos valores discrepantes"
      ],
      "metadata": {
        "id": "zunfbNmT-Zze"
      }
    },
    {
      "cell_type": "markdown",
      "source": [
        "#Modelagem de dados\n"
      ],
      "metadata": {
        "id": "9MV7Dgc5_KF2"
      }
    },
    {
      "cell_type": "markdown",
      "source": [
        "##bag of words\n",
        "onde as palvras de uma sentenca sao reprensentadas atraves de um vetor\n",
        "![image.png](data:image/png;base64,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)"
      ],
      "metadata": {
        "id": "NPUHNSSE_SDC"
      }
    },
    {
      "cell_type": "markdown",
      "source": [],
      "metadata": {
        "id": "VtmFrWML_elr"
      }
    }
  ]
}