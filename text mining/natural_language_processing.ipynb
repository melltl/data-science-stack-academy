{
  "nbformat": 4,
  "nbformat_minor": 0,
  "metadata": {
    "colab": {
      "provenance": [],
      "authorship_tag": "ABX9TyP7wMTqwmcKDILAUYNzoYbP",
      "include_colab_link": true
    },
    "kernelspec": {
      "name": "python3",
      "display_name": "Python 3"
    },
    "language_info": {
      "name": "python"
    }
  },
  "cells": [
    {
      "cell_type": "markdown",
      "metadata": {
        "id": "view-in-github",
        "colab_type": "text"
      },
      "source": [
        "<a href=\"https://colab.research.google.com/github/melltl/data_science_courses/blob/main/text%20mining/natural_language_processing.ipynb\" target=\"_parent\"><img src=\"https://colab.research.google.com/assets/colab-badge.svg\" alt=\"Open In Colab\"/></a>"
      ]
    },
    {
      "cell_type": "markdown",
      "source": [
        "#Mineração de texto\n",
        "tecnica usada para tirar infos de base de dados de texto\n",
        "\n",
        "\n",
        "NLP(natural language processing)\n"
      ],
      "metadata": {
        "id": "yszlKgiXN20f"
      }
    },
    {
      "cell_type": "code",
      "source": [
        "import nltk\n",
        "import re\n",
        "from nltk.corpus import wordnet\n",
        "nltk.download('punkt')\n",
        "from nltk import FreqDist\n",
        "import numpy as np\n",
        "import matplotlib.pyplot as plt\n",
        "from nltk.stem import RSLPStemmer\n",
        "nltk.download('stopwords')\n",
        "nltk.download('rslp')\n",
        "nltk.download('averaged_perceptron_tagger')"
      ],
      "metadata": {
        "colab": {
          "base_uri": "https://localhost:8080/"
        },
        "id": "U2Qz4a-oiS1o",
        "outputId": "d0dd32b7-fd49-4878-ccc3-2b7e9979ebee"
      },
      "execution_count": 8,
      "outputs": [
        {
          "output_type": "stream",
          "name": "stderr",
          "text": [
            "[nltk_data] Downloading package punkt to /root/nltk_data...\n",
            "[nltk_data]   Package punkt is already up-to-date!\n",
            "[nltk_data] Downloading package stopwords to /root/nltk_data...\n",
            "[nltk_data]   Package stopwords is already up-to-date!\n",
            "[nltk_data] Downloading package rslp to /root/nltk_data...\n",
            "[nltk_data]   Package rslp is already up-to-date!\n",
            "[nltk_data] Downloading package averaged_perceptron_tagger to\n",
            "[nltk_data]     /root/nltk_data...\n",
            "[nltk_data]   Unzipping taggers/averaged_perceptron_tagger.zip.\n"
          ]
        },
        {
          "output_type": "execute_result",
          "data": {
            "text/plain": [
              "True"
            ]
          },
          "metadata": {},
          "execution_count": 8
        }
      ]
    },
    {
      "cell_type": "code",
      "source": [
        "#word tokenize = separa as palavras e gera um token\n",
        "frase= 'Python eh uma linguagem fenomenal'\n",
        "palavras=nltk.word_tokenize(frase)\n",
        "palavras"
      ],
      "metadata": {
        "id": "cRrwzhPoso3-",
        "colab": {
          "base_uri": "https://localhost:8080/"
        },
        "outputId": "4586f330-0d54-4815-ec7f-59180708978d"
      },
      "execution_count": null,
      "outputs": [
        {
          "output_type": "execute_result",
          "data": {
            "text/plain": [
              "['Python', 'eh', 'uma', 'linguagem', 'fenomenal']"
            ]
          },
          "metadata": {},
          "execution_count": 7
        }
      ]
    },
    {
      "cell_type": "code",
      "source": [
        "#frequencia que as palavras aparecem\n",
        "frequencia=FreqDist(['six','six','six','Iron Maiden','the','Best','Iron Mainden','forever'])\n",
        "frequencia"
      ],
      "metadata": {
        "colab": {
          "base_uri": "https://localhost:8080/"
        },
        "id": "9glTkP6Ci8Zj",
        "outputId": "8c1766c5-ecaf-44c8-8351-4faf669f4a8c"
      },
      "execution_count": null,
      "outputs": [
        {
          "output_type": "execute_result",
          "data": {
            "text/plain": [
              "FreqDist({'six': 3, 'Iron Maiden': 1, 'the': 1, 'Best': 1, 'Iron Mainden': 1, 'forever': 1})"
            ]
          },
          "metadata": {},
          "execution_count": 10
        }
      ]
    },
    {
      "cell_type": "code",
      "source": [
        "#plotar a frequencia das palavras na fase\n",
        "palavras=frequencia.keys()\n",
        "y_pos=np.arange(len(palavras))\n",
        "contagem = frequencia.values()\n",
        "\n",
        "plt.bar(y_pos,contagem,align='center',alpha=0.5)\n",
        "plt.xticks(y_pos,palavras)\n",
        "plt.ylabel('Frequencia')\n",
        "plt.title('Frequencia das palavras na frase')\n",
        "\n",
        "plt.show()"
      ],
      "metadata": {
        "colab": {
          "base_uri": "https://localhost:8080/",
          "height": 452
        },
        "id": "m_V-3wbEjUx1",
        "outputId": "3146eacd-98dd-4db5-eefb-f5fde2e6ebec"
      },
      "execution_count": null,
      "outputs": [
        {
          "output_type": "display_data",
          "data": {
            "text/plain": [
              "<Figure size 640x480 with 1 Axes>"
            ],
            "image/png": "[encoded data removed]"
          },
          "metadata": {}
        }
      ]
    },
    {
      "cell_type": "markdown",
      "source": [
        "##stemming\n",
        "reduzir uma palavra na forma da sua radical\n",
        "usado para fazer pre processamento de dados"
      ],
      "metadata": {
        "id": "tTsOtNBMlUEh"
      }
    },
    {
      "cell_type": "code",
      "source": [
        "#stemming em portugues\n",
        "stemmer= nltk.stem.RSLPStemmer()"
      ],
      "metadata": {
        "id": "f3Bf1lECkU84"
      },
      "execution_count": null,
      "outputs": []
    },
    {
      "cell_type": "code",
      "source": [
        "stemmer.stem('Trabalhou')\n",
        "#retorna uma versao reduzida da palavra\n",
        "#diminui o numero de palavras distintas\n",
        "#para tarefas de analise de sentimento usando essa biblioteca teve uma piora no modelo"
      ],
      "metadata": {
        "colab": {
          "base_uri": "https://localhost:8080/",
          "height": 35
        },
        "id": "Gt2zLKrQmIVV",
        "outputId": "6af77999-143a-48b9-afa3-1d73fad782f2"
      },
      "execution_count": null,
      "outputs": [
        {
          "output_type": "execute_result",
          "data": {
            "text/plain": [
              "'trabalh'"
            ],
            "application/vnd.google.colaboratory.intrinsic+json": {
              "type": "string"
            }
          },
          "metadata": {},
          "execution_count": 21
        }
      ]
    },
    {
      "cell_type": "code",
      "source": [
        "stemmer= nltk.stem.SnowballStemmer(\"english\")\n",
        "#stemming em ingles"
      ],
      "metadata": {
        "id": "aiABVGcHmLyo"
      },
      "execution_count": null,
      "outputs": []
    },
    {
      "cell_type": "code",
      "source": [
        "stemmer.stem('running')"
      ],
      "metadata": {
        "colab": {
          "base_uri": "https://localhost:8080/",
          "height": 35
        },
        "id": "PCTaeLbio1kr",
        "outputId": "e9f5a2c4-9d83-4777-f09f-dde3e46bd8dc"
      },
      "execution_count": null,
      "outputs": [
        {
          "output_type": "execute_result",
          "data": {
            "text/plain": [
              "'run'"
            ],
            "application/vnd.google.colaboratory.intrinsic+json": {
              "type": "string"
            }
          },
          "metadata": {},
          "execution_count": 23
        }
      ]
    },
    {
      "cell_type": "code",
      "source": [
        "#funcao para aplicar stemming\n",
        "def Stemming(instancia):\n",
        "  stemmer= nltk.stem.RSLPStemmer()\n",
        "  palavras=[]\n",
        "  for w in instancia.split():\n",
        "    palavras.append(stemmer.stem(w))\n",
        "  return(\" \".join(palavras))"
      ],
      "metadata": {
        "id": "_k0fyoxApCRb"
      },
      "execution_count": null,
      "outputs": []
    },
    {
      "cell_type": "code",
      "source": [
        "Stemming('Frase de teste para o curso de data science')"
      ],
      "metadata": {
        "colab": {
          "base_uri": "https://localhost:8080/",
          "height": 35
        },
        "id": "vp-iRYzypZEy",
        "outputId": "3e1325db-193d-4314-eddb-4c2cdd026696"
      },
      "execution_count": null,
      "outputs": [
        {
          "output_type": "execute_result",
          "data": {
            "text/plain": [
              "'fras de test par o curs de dat scienc'"
            ],
            "application/vnd.google.colaboratory.intrinsic+json": {
              "type": "string"
            }
          },
          "metadata": {},
          "execution_count": 25
        }
      ]
    },
    {
      "cell_type": "markdown",
      "source": [
        "#lemmatization\n",
        "- desflexiona uma palavra para deteminar o seu lema\n",
        "- tecnica usada para fazer pre processamento de dados"
      ],
      "metadata": {
        "id": "o0djrsCcisIG"
      }
    },
    {
      "cell_type": "code",
      "source": [
        "from nltk.stem import WordNetLemmatizer\n",
        "nltk.download('wordnet')"
      ],
      "metadata": {
        "colab": {
          "base_uri": "https://localhost:8080/"
        },
        "id": "L87lj18li4v_",
        "outputId": "b0363cd3-175c-4b79-fcfc-88bc400cd992"
      },
      "execution_count": null,
      "outputs": [
        {
          "output_type": "stream",
          "name": "stderr",
          "text": [
            "[nltk_data] Downloading package wordnet to /root/nltk_data...\n"
          ]
        },
        {
          "output_type": "execute_result",
          "data": {
            "text/plain": [
              "True"
            ]
          },
          "metadata": {},
          "execution_count": 7
        }
      ]
    },
    {
      "cell_type": "code",
      "source": [
        "lemmatizer = WordNetLemmatizer()"
      ],
      "metadata": {
        "id": "cxYgmaKlk0Lb"
      },
      "execution_count": null,
      "outputs": []
    },
    {
      "cell_type": "code",
      "source": [
        "print(lemmatizer.lemmatize(\"cats\"))\n",
        "# difernca para o stemmin é que se nao encontrar o lema da palavra ela n corta a palavara ao indes do stemming que pode\n",
        "#retornar algo que nao existe"
      ],
      "metadata": {
        "colab": {
          "base_uri": "https://localhost:8080/"
        },
        "id": "K43MBf93lBHH",
        "outputId": "206e6ebe-e732-422c-99ef-f51d64ed531e"
      },
      "execution_count": null,
      "outputs": [
        {
          "output_type": "stream",
          "name": "stdout",
          "text": [
            "cat\n"
          ]
        }
      ]
    },
    {
      "cell_type": "code",
      "source": [
        "lemmatizer.lemmatize('is',pos='n')\n",
        "#parametro p = part os speech, qual a funcao gramatical da palavra que a gente quer bujscar\n",
        "#padrao é 'n'==substantivo"
      ],
      "metadata": {
        "colab": {
          "base_uri": "https://localhost:8080/",
          "height": 35
        },
        "id": "ypaMOY8olFbd",
        "outputId": "231e84f5-5ee9-460e-aeca-d676ecb1feeb"
      },
      "execution_count": null,
      "outputs": [
        {
          "output_type": "execute_result",
          "data": {
            "text/plain": [
              "'is'"
            ],
            "application/vnd.google.colaboratory.intrinsic+json": {
              "type": "string"
            }
          },
          "metadata": {},
          "execution_count": 9
        }
      ]
    },
    {
      "cell_type": "code",
      "source": [
        "lemmatizer.lemmatize('is',pos='v')\n",
        "#v=verbo"
      ],
      "metadata": {
        "colab": {
          "base_uri": "https://localhost:8080/",
          "height": 35
        },
        "id": "zgi9ZbMzBG0-",
        "outputId": "3880a419-2c68-40a7-cc34-0f5a418a2233"
      },
      "execution_count": null,
      "outputs": [
        {
          "output_type": "execute_result",
          "data": {
            "text/plain": [
              "'be'"
            ],
            "application/vnd.google.colaboratory.intrinsic+json": {
              "type": "string"
            }
          },
          "metadata": {},
          "execution_count": 10
        }
      ]
    },
    {
      "cell_type": "code",
      "source": [
        "lemmatizer.lemmatize('better',pos='a')\n",
        "#a = adjetivo"
      ],
      "metadata": {
        "colab": {
          "base_uri": "https://localhost:8080/",
          "height": 35
        },
        "id": "PpWs3n8BCP17",
        "outputId": "19c2fd7c-041d-4dde-c0d7-2ed7181724ae"
      },
      "execution_count": null,
      "outputs": [
        {
          "output_type": "execute_result",
          "data": {
            "text/plain": [
              "'good'"
            ],
            "application/vnd.google.colaboratory.intrinsic+json": {
              "type": "string"
            }
          },
          "metadata": {},
          "execution_count": 11
        }
      ]
    },
    {
      "cell_type": "markdown",
      "source": [
        "#stoptoWords\n",
        "palavras  ou termos que sao muito usadas mas n tem signifixado: é,o,a"
      ],
      "metadata": {
        "id": "eiHC8vmQd7cd"
      }
    },
    {
      "cell_type": "code",
      "source": [
        "stopwords=nltk.corpus.stopwords.words('portuguese')\n",
        "stopwords"
      ],
      "metadata": {
        "id": "7cgSmmxveHms"
      },
      "execution_count": null,
      "outputs": []
    },
    {
      "cell_type": "code",
      "source": [
        "def RemoviStopWords(instancia):\n",
        "  instancia=instancia.lower()\n",
        "  stopwords=set(nltk.corpus.stopwords.words('portuguese'))\n",
        "  palavras=[i for i in instancia.split() if not i in stopwords]\n",
        "  return(\" \".join(palavras))"
      ],
      "metadata": {
        "id": "8B5XbAkOetp6"
      },
      "execution_count": null,
      "outputs": []
    },
    {
      "cell_type": "markdown",
      "source": [
        "#part os speech\n",
        "- identifica a função gramatical de um texto"
      ],
      "metadata": {
        "id": "VC1tA26bhi3v"
      }
    },
    {
      "cell_type": "code",
      "source": [
        "text= nltk.word_tokenize(\"O blog MinerandoDados é muito bom\")\n",
        "\n",
        "#n funciona mt bem em pt br\n",
        "nltk.pos_tag(text)"
      ],
      "metadata": {
        "colab": {
          "base_uri": "https://localhost:8080/"
        },
        "id": "33zSMDLhiR6e",
        "outputId": "18dd0606-afc7-4b56-87f2-ff7438097119"
      },
      "execution_count": 9,
      "outputs": [
        {
          "output_type": "execute_result",
          "data": {
            "text/plain": [
              "[('O', 'NNP'),\n",
              " ('blog', 'NN'),\n",
              " ('MinerandoDados', 'NNP'),\n",
              " ('é', 'NNP'),\n",
              " ('muito', 'NN'),\n",
              " ('bom', 'NN')]"
            ]
          },
          "metadata": {},
          "execution_count": 9
        }
      ]
    },
    {
      "cell_type": "code",
      "source": [
        "text= nltk.word_tokenize(\"My print is very good\")\n",
        "nltk.pos_tag(text)"
      ],
      "metadata": {
        "colab": {
          "base_uri": "https://localhost:8080/"
        },
        "id": "0A7GUHQejRVX",
        "outputId": "81bba5f8-9222-4c00-d997-8c255460fca5"
      },
      "execution_count": 10,
      "outputs": [
        {
          "output_type": "execute_result",
          "data": {
            "text/plain": [
              "[('My', 'PRP$'),\n",
              " ('print', 'NN'),\n",
              " ('is', 'VBZ'),\n",
              " ('very', 'RB'),\n",
              " ('good', 'JJ')]"
            ]
          },
          "metadata": {},
          "execution_count": 10
        }
      ]
    },
    {
      "cell_type": "markdown",
      "source": [
        "#wordnet"
      ],
      "metadata": {
        "id": "dezGtJehnC7d"
      }
    },
    {
      "cell_type": "code",
      "source": [
        "from nltk.corpus import wordnet\n",
        "nltk.download('wordnet')\n",
        "wordnet.synsets('bike')"
      ],
      "metadata": {
        "colab": {
          "base_uri": "https://localhost:8080/"
        },
        "id": "JyLvsBVEpNk8",
        "outputId": "8ddc45d4-1b40-44eb-dfdf-722f06e05899"
      },
      "execution_count": 13,
      "outputs": [
        {
          "output_type": "stream",
          "name": "stderr",
          "text": [
            "[nltk_data] Downloading package wordnet to /root/nltk_data...\n"
          ]
        },
        {
          "output_type": "execute_result",
          "data": {
            "text/plain": [
              "[Synset('motorcycle.n.01'), Synset('bicycle.n.01'), Synset('bicycle.v.01')]"
            ]
          },
          "metadata": {},
          "execution_count": 13
        }
      ]
    },
    {
      "cell_type": "code",
      "source": [
        "#definicoes das palavras\n",
        "wordnet.synset('bicycle.n.01').definition()"
      ],
      "metadata": {
        "colab": {
          "base_uri": "https://localhost:8080/",
          "height": 35
        },
        "id": "Z5ZoWoWRpYeF",
        "outputId": "2a547463-d144-4543-a371-3f71d12b35ee"
      },
      "execution_count": 18,
      "outputs": [
        {
          "output_type": "execute_result",
          "data": {
            "text/plain": [
              "'a wheeled vehicle that has two wheels and is moved by foot pedals'"
            ],
            "application/vnd.google.colaboratory.intrinsic+json": {
              "type": "string"
            }
          },
          "metadata": {},
          "execution_count": 18
        }
      ]
    },
    {
      "cell_type": "code",
      "source": [
        "#hiponimos da palavra bicycle\n",
        "#conceitos mais especificos\n",
        "wordnet.synset('bicycle.n.01').hyponyms()"
      ],
      "metadata": {
        "colab": {
          "base_uri": "https://localhost:8080/"
        },
        "id": "HrIbg_f5psUV",
        "outputId": "321aae83-a800-4656-9f18-e9b396633cb7"
      },
      "execution_count": 19,
      "outputs": [
        {
          "output_type": "execute_result",
          "data": {
            "text/plain": [
              "[Synset('bicycle-built-for-two.n.01'),\n",
              " Synset('mountain_bike.n.01'),\n",
              " Synset('ordinary.n.04'),\n",
              " Synset('push-bike.n.01'),\n",
              " Synset('safety_bicycle.n.01'),\n",
              " Synset('velocipede.n.01')]"
            ]
          },
          "metadata": {},
          "execution_count": 19
        }
      ]
    },
    {
      "cell_type": "code",
      "source": [
        "#hiperonimos\n",
        "#conceitos mais genericos\n",
        "wordnet.synset('bicycle.n.01').hypernyms()"
      ],
      "metadata": {
        "colab": {
          "base_uri": "https://localhost:8080/"
        },
        "id": "BUhQx9AjqNs1",
        "outputId": "ec07142b-efaa-419b-e72f-637d2cb6a4ba"
      },
      "execution_count": 21,
      "outputs": [
        {
          "output_type": "execute_result",
          "data": {
            "text/plain": [
              "[Synset('wheeled_vehicle.n.01')]"
            ]
          },
          "metadata": {},
          "execution_count": 21
        }
      ]
    },
    {
      "cell_type": "code",
      "source": [
        "#meronysms da palavra bicycle\n",
        "#conceitos pastes de outros conceitos\n",
        "wordnet.synset('bicycle.n.01').part_meronyms()"
      ],
      "metadata": {
        "colab": {
          "base_uri": "https://localhost:8080/"
        },
        "id": "6pc9AaBZqfyl",
        "outputId": "72c63ef1-01c0-4388-d33e-026a7bb374ff"
      },
      "execution_count": 23,
      "outputs": [
        {
          "output_type": "execute_result",
          "data": {
            "text/plain": [
              "[Synset('bicycle_seat.n.01'),\n",
              " Synset('bicycle_wheel.n.01'),\n",
              " Synset('chain.n.03'),\n",
              " Synset('coaster_brake.n.01'),\n",
              " Synset('handlebar.n.01'),\n",
              " Synset('kickstand.n.01'),\n",
              " Synset('mudguard.n.01'),\n",
              " Synset('pedal.n.02'),\n",
              " Synset('sprocket.n.02')]"
            ]
          },
          "metadata": {},
          "execution_count": 23
        }
      ]
    }
  ]
}